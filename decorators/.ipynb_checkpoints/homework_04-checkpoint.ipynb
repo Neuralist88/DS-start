{
  "cells": [
    {
      "cell_type": "markdown",
      "metadata": {
        "id": "QY4qPJPpgyIS"
      },
      "source": [
        "# Домашнее задание: декораторы"
      ]
    },
    {
      "cell_type": "markdown",
      "metadata": {
        "id": "Chacc6YchldZ"
      },
      "source": [
        "## Импорт библиотек, установка констант"
      ]
    },
    {
      "cell_type": "code",
      "execution_count": 4,
      "metadata": {
        "id": "w8iKrWvwhrFd"
      },
      "outputs": [],
      "source": [
        "import requests\n",
        "import time\n",
        "import re\n",
        "\n",
        "from random import randint"
      ]
    },
    {
      "cell_type": "code",
      "execution_count": 5,
      "metadata": {
        "id": "-LRkS0fSi8Np"
      },
      "outputs": [],
      "source": [
        "BOOK_PATH = 'https://www.gutenberg.org/files/2638/2638-0.txt'"
      ]
    },
    {
      "cell_type": "markdown",
      "metadata": {
        "id": "kARfL8ifg4MH"
      },
      "source": [
        "## Задание 1"
      ]
    },
    {
      "cell_type": "code",
      "execution_count": 6,
      "metadata": {
        "id": "hNHNWPhngrUl"
      },
      "outputs": [],
      "source": [
        "def benchmark(func):\n",
        "    \"\"\"\n",
        "    Декоратор, выводящий время, которое заняло выполнение декорируемой функции\n",
        "    \"\"\"\n",
        "\n",
        "    def wrapper(*args, **kwargs):\n",
        "        start_time = time.monotonic()\n",
        "        res = func(*args, **kwargs)\n",
        "        end_time = time.monotonic()\n",
        "        print(f'Время выполнения функции {func.__name__}: {end_time - start_time}')\n",
        "        return res\n",
        "\n",
        "    return wrapper"
      ]
    },
    {
      "cell_type": "markdown",
      "metadata": {
        "id": "tGlbUKjihL5n"
      },
      "source": [
        "## Задание 2"
      ]
    },
    {
      "cell_type": "code",
      "execution_count": 7,
      "metadata": {
        "id": "wugOZDLqhNe-"
      },
      "outputs": [],
      "source": [
        "def logging(func):\n",
        "    \"\"\"\n",
        "    Декоратор, который выводит параметры с которыми была вызвана функция\n",
        "    \"\"\"\n",
        "\n",
        "    def wrapper(*args, **kwargs):\n",
        "        res = func(*args, **kwargs)\n",
        "        print('Функция вызвана с параметрами:')\n",
        "        print(args, kwargs)\n",
        "        return res\n",
        "\n",
        "    return wrapper"
      ]
    },
    {
      "cell_type": "markdown",
      "metadata": {
        "id": "Sq1tv5fshTfv"
      },
      "source": [
        "## Задание 3"
      ]
    },
    {
      "cell_type": "code",
      "execution_count": 8,
      "metadata": {
        "id": "9nyvuxXkhVeb"
      },
      "outputs": [],
      "source": [
        "def counter(func):\n",
        "    \"\"\"\n",
        "    Декоратор, считающий и выводящий количество вызовов декорируемой функции\n",
        "    \"\"\"\n",
        "\n",
        "    def wrapper(*args, **kwargs):\n",
        "        wrapper.num_calls += 1        \n",
        "        return func(*args, **kwargs)\n",
        "    \n",
        "    wrapper.num_calls = 0\n",
        "    return wrapper"
      ]
    },
    {
      "cell_type": "markdown",
      "metadata": {
        "id": "uHn8Adfshz5q"
      },
      "source": [
        "## Задание 4"
      ]
    },
    {
      "cell_type": "code",
      "execution_count": 17,
      "metadata": {
        "id": "R7uu6WtGifNX"
      },
      "outputs": [],
      "source": [
        "def memo(func):\n",
        "  \"\"\"\n",
        "  Декоратор, запоминающий результаты исполнения функции func, чьи аргументы args должны быть хешируемыми\n",
        "  \"\"\"\n",
        "  cache = {}\n",
        "\n",
        "  def fmemo(*args):\n",
        "    res = func(*args)\n",
        "    cache[args] = res\n",
        "    return res\n",
        "\n",
        "  fmemo.cache = cache\n",
        "  return fmemo"
      ]
    },
    {
      "cell_type": "markdown",
      "metadata": {
        "id": "Zn5UQCa_izxo"
      },
      "source": [
        "## Тестирование"
      ]
    },
    {
      "cell_type": "code",
      "execution_count": 10,
      "metadata": {
        "id": "CHCJ64I8i2QB"
      },
      "outputs": [
        {
          "name": "stdout",
          "output_type": "stream",
          "text": [
            "Время выполнения функции word_count: 1.626542119000078\n",
            "Функция вызвана с параметрами:\n",
            "('whole',) {}\n",
            "Cлово whole встречается 176 раз\n",
            "Функция была вызвана: 1 раз\n"
          ]
        }
      ],
      "source": [
        "@counter\n",
        "@logging\n",
        "@benchmark\n",
        "def word_count(word, url=BOOK_PATH):\n",
        "    \"\"\"\n",
        "    Функция для подсчета указанного слова на html-странице\n",
        "    \"\"\"\n",
        "\n",
        "    # отправляем запрос в библиотеку Gutenberg и забираем текст\n",
        "    raw = requests.get(url).text\n",
        "\n",
        "    # заменяем в тексте все небуквенные символы на пробелы\n",
        "    processed_book = re.sub('[\\W]+' , ' ', raw).lower()\n",
        "\n",
        "    # считаем\n",
        "    cnt = len(re.findall(word.lower(), processed_book))\n",
        "\n",
        "    return f\"Cлово {word} встречается {cnt} раз\"\n",
        "\n",
        "print(word_count('whole'))\n",
        "\n",
        "print(f'Функция была вызвана: {word_count.num_calls} раз')\n"
      ]
    },
    {
      "cell_type": "markdown",
      "metadata": {},
      "source": [
        "# Примечание\n",
        "У меня не получилось вывести значения точно в такой последовательности как в примере на Stepik. Не знаю, как это поправить."
      ]
    },
    {
      "cell_type": "code",
      "execution_count": 11,
      "metadata": {
        "id": "ZE4Rfn-hh3k3"
      },
      "outputs": [],
      "source": [
        "def fib(n):\n",
        "    if n < 2:\n",
        "        return n\n",
        "    return fib(n-2) + fib(n-1)"
      ]
    },
    {
      "cell_type": "markdown",
      "metadata": {},
      "source": [
        "Для замера времени вычисления используем созданный ранее декоратор benchmark.\n",
        "<br>Очевидно, что полученное время не совсем корректно отображает результат, поскольку оно учитывает также рекурсивный вызов функции print "
      ]
    },
    {
      "cell_type": "code",
      "execution_count": 30,
      "metadata": {
        "id": "Io94NyjiiXG4"
      },
      "outputs": [
        {
          "name": "stdout",
          "output_type": "stream",
          "text": [
            "Время выполнения функции fmemo: 0.004285048999008723\n"
          ]
        },
        {
          "data": {
            "text/plain": [
              "6765"
            ]
          },
          "execution_count": 30,
          "metadata": {},
          "output_type": "execute_result"
        }
      ],
      "source": [
        "# измеряем время выполнения\n",
        "fib_dec_bmark = benchmark(fib)\n",
        "# Ввод номера члена последовательности Фибоначчи, который мы хотим рассчитать\n",
        "n = int(input('Введите целое число:'))\n",
        "fib_dec_bmark(n)"
      ]
    },
    {
      "cell_type": "code",
      "execution_count": 22,
      "metadata": {
        "id": "W9B3e-t9iTUj"
      },
      "outputs": [],
      "source": [
        "@memo\n",
        "def fib(n):\n",
        "    if n < 2:\n",
        "        return n\n",
        "    return fib(n-2) + fib(n-1)"
      ]
    },
    {
      "cell_type": "code",
      "execution_count": 31,
      "metadata": {
        "id": "Sk6_4KQaidkh"
      },
      "outputs": [
        {
          "name": "stdout",
          "output_type": "stream",
          "text": [
            "Время выполнения функции fmemo: 0.003416573001231882\n"
          ]
        },
        {
          "data": {
            "text/plain": [
              "6765"
            ]
          },
          "execution_count": 31,
          "metadata": {},
          "output_type": "execute_result"
        }
      ],
      "source": [
        "# измеряем время выполнения\n",
        "fib_dec_memo_bmark = benchmark(memo(fib))\n",
        "# Ввод номера члена последовательности Фибоначчи, который мы хотим рассчитать\n",
        "n = int(input('Введите целое число:'))\n",
        "fib_dec_memo_bmark(n)"
      ]
    },
    {
      "cell_type": "markdown",
      "metadata": {},
      "source": [
        "# Вывод\n",
        "----\n",
        "Вычисление числа Фибоначчи с использованием декоратора memo происходит быстрее "
      ]
    }
  ],
  "metadata": {
    "colab": {
      "provenance": []
    },
    "kernelspec": {
      "display_name": "Python 3",
      "name": "python3"
    },
    "language_info": {
      "codemirror_mode": {
        "name": "ipython",
        "version": 3
      },
      "file_extension": ".py",
      "mimetype": "text/x-python",
      "name": "python",
      "nbconvert_exporter": "python",
      "pygments_lexer": "ipython3",
      "version": "3.10.12"
    }
  },
  "nbformat": 4,
  "nbformat_minor": 0
}
